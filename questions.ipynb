{
 "cells": [
  {
   "cell_type": "code",
   "execution_count": null,
   "metadata": {},
   "outputs": [
    {
     "name": "stdout",
     "output_type": "stream",
     "text": [
      "Number of words:  5\n"
     ]
    }
   ],
   "source": [
    "#function to find a number of words\n",
    "def count(text):\n",
    "    words = text.split()\n",
    "    return len(words)\n",
    "\n",
    "text = \"This is the simple text\"\n",
    "print(\"Number of words: \", count(text))\n"
   ]
  },
  {
   "cell_type": "code",
   "execution_count": 6,
   "metadata": {},
   "outputs": [
    {
     "name": "stdout",
     "output_type": "stream",
     "text": [
      "The largest of the number is  4\n"
     ]
    }
   ],
   "source": [
    "#function to find a largest number in given list\n",
    "def largest(arr):\n",
    "    largest = arr[0]\n",
    "    for i in arr:\n",
    "        if i>largest:\n",
    "          largest=i\n",
    "        \n",
    "    return largest\n",
    "\n",
    "\n",
    "\n",
    "\n",
    "arr=[2,3,4]\n",
    "print(\"The largest of the number is \",largest(arr))\n"
   ]
  },
  {
   "cell_type": "code",
   "execution_count": 10,
   "metadata": {},
   "outputs": [],
   "source": [
    "#function to find the number of apperance of each of the word\n",
    "def word_frequency(text):\n",
    "    splitted = text.split()\n",
    "    freq = {}\n",
    "    for ele in splitted:\n",
    "        if ele not in freq:\n",
    "            freq[ele] = 1\n",
    "        else:\n",
    "            freq[ele] = freq[ele]+1\n",
    "        \n",
    "    print(freq)\n",
    "\n",
    "    word_frequency(\n",
    "        \"This is the is \"\n",
    "    )"
   ]
  },
  {
   "cell_type": "code",
   "execution_count": null,
   "metadata": {},
   "outputs": [],
   "source": [
    "#function to find the longest word in given text"
   ]
  }
 ],
 "metadata": {
  "kernelspec": {
   "display_name": "venv",
   "language": "python",
   "name": "python3"
  },
  "language_info": {
   "codemirror_mode": {
    "name": "ipython",
    "version": 3
   },
   "file_extension": ".py",
   "mimetype": "text/x-python",
   "name": "python",
   "nbconvert_exporter": "python",
   "pygments_lexer": "ipython3",
   "version": "3.13.0"
  }
 },
 "nbformat": 4,
 "nbformat_minor": 2
}
