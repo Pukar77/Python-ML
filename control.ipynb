{
 "cells": [
  {
   "cell_type": "code",
   "execution_count": null,
   "metadata": {},
   "outputs": [
    {
     "name": "stdout",
     "output_type": "stream",
     "text": [
      "hello this is pukar rimal an software engineer\n",
      "outside of the box is again pukar rimal\n"
     ]
    }
   ],
   "source": [
    "condition = True\n",
    "if condition:\n",
    "    print(\"hello this is pukar rimal a software engineer\")\n",
    "print(\"outside of the box is again pukar rimal\")    "
   ]
  },
  {
   "cell_type": "code",
   "execution_count": 3,
   "metadata": {},
   "outputs": [
    {
     "name": "stdout",
     "output_type": "stream",
     "text": [
      "hello this pukar rimal again from else bloock\n"
     ]
    }
   ],
   "source": [
    "condition = False\n",
    "if condition:\n",
    "    print(\"hello this is pukar rimal a software engineer\")\n",
    "else:\n",
    "    print(\"hello this pukar rimal again from else bloock\")"
   ]
  },
  {
   "cell_type": "code",
   "execution_count": 4,
   "metadata": {},
   "outputs": [
    {
     "name": "stdout",
     "output_type": "stream",
     "text": [
      "this is elseif block\n"
     ]
    }
   ],
   "source": [
    "val = 7\n",
    "if val>8:\n",
    "    print(\"Helllo this is if \")\n",
    "\n",
    "elif val>5:\n",
    "    print(\"this is elseif block\")\n",
    "\n",
    "else:\n",
    "    print(\"this is else block\")"
   ]
  },
  {
   "cell_type": "code",
   "execution_count": 6,
   "metadata": {},
   "outputs": [
    {
     "name": "stdout",
     "output_type": "stream",
     "text": [
      "dafault case\n"
     ]
    }
   ],
   "source": [
    "val = 7\n",
    "match val:\n",
    "    case 1:\n",
    "        print(\"case 1\")\n",
    "\n",
    "    case 2:\n",
    "        print(\"case 2\")\n",
    "\n",
    "    case _:\n",
    "        print(\"dafault case\")\n",
    "    \n"
   ]
  },
  {
   "cell_type": "code",
   "execution_count": 2,
   "metadata": {},
   "outputs": [
    {
     "name": "stdout",
     "output_type": "stream",
     "text": [
      "a\n",
      "b\n",
      "c\n",
      "d\n",
      "e\n"
     ]
    }
   ],
   "source": [
    "l = ['a','b','c','d','e']\n",
    "for ele in l:\n",
    "    print(ele)"
   ]
  },
  {
   "cell_type": "code",
   "execution_count": 4,
   "metadata": {},
   "outputs": [
    {
     "name": "stdout",
     "output_type": "stream",
     "text": [
      "('a', 1)\n",
      "('b', 2)\n",
      "('c', 3)\n"
     ]
    }
   ],
   "source": [
    "d={'a':1, 'b':2,'c':3}\n",
    "for ele in d.items():\n",
    "    print(ele)\n"
   ]
  },
  {
   "cell_type": "code",
   "execution_count": 5,
   "metadata": {},
   "outputs": [
    {
     "name": "stdout",
     "output_type": "stream",
     "text": [
      "k='a',v=1\n",
      "k='b',v=2\n",
      "k='c',v=3\n"
     ]
    }
   ],
   "source": [
    "d={'a':1, 'b':2,'c':3}\n",
    "for k,v in d.items():\n",
    "    print(f\"{k=},{v=}\")"
   ]
  }
 ],
 "metadata": {
  "kernelspec": {
   "display_name": "venv",
   "language": "python",
   "name": "python3"
  },
  "language_info": {
   "codemirror_mode": {
    "name": "ipython",
    "version": 3
   },
   "file_extension": ".py",
   "mimetype": "text/x-python",
   "name": "python",
   "nbconvert_exporter": "python",
   "pygments_lexer": "ipython3",
   "version": "3.13.0"
  }
 },
 "nbformat": 4,
 "nbformat_minor": 2
}
