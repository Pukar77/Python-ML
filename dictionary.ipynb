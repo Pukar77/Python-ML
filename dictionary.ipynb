{
 "cells": [
  {
   "cell_type": "code",
   "execution_count": 2,
   "metadata": {},
   "outputs": [
    {
     "name": "stdout",
     "output_type": "stream",
     "text": [
      "<class 'dict'>\n"
     ]
    }
   ],
   "source": [
    "d1 = {}\n",
    "print(type(d1))"
   ]
  },
  {
   "cell_type": "code",
   "execution_count": 3,
   "metadata": {},
   "outputs": [
    {
     "name": "stdout",
     "output_type": "stream",
     "text": [
      "<class 'dict'>\n"
     ]
    }
   ],
   "source": [
    "d2 = dict()\n",
    "print(type(d2))"
   ]
  },
  {
   "cell_type": "code",
   "execution_count": 4,
   "metadata": {},
   "outputs": [
    {
     "name": "stdout",
     "output_type": "stream",
     "text": [
      "{'a': 1, 'b': [1, 2], 'c': 1.1} <class 'dict'>\n"
     ]
    }
   ],
   "source": [
    "d3 = {'a':1 , 'b':[1,2], 'c':1.1}\n",
    "print(d3, type(d3))"
   ]
  },
  {
   "cell_type": "code",
   "execution_count": 8,
   "metadata": {},
   "outputs": [
    {
     "data": {
      "text/plain": [
       "'Default'"
      ]
     },
     "execution_count": 8,
     "metadata": {},
     "output_type": "execute_result"
    }
   ],
   "source": [
    "d1.get(\"firstkey\",\"Default\")"
   ]
  },
  {
   "cell_type": "code",
   "execution_count": 7,
   "metadata": {},
   "outputs": [
    {
     "name": "stdout",
     "output_type": "stream",
     "text": [
      "{'first_key': 'first_value'}\n"
     ]
    }
   ],
   "source": [
    "d1['first_key']=\"first_value\"\n",
    "print(d1)"
   ]
  },
  {
   "cell_type": "code",
   "execution_count": 10,
   "metadata": {},
   "outputs": [
    {
     "name": "stdout",
     "output_type": "stream",
     "text": [
      "{'a': 23, 'b': 'hello'}\n"
     ]
    }
   ],
   "source": [
    "d1={\"a\":23}\n",
    "d2 = {\"b\":\"hello\"}\n",
    "\n",
    "d1.update(d2)\n",
    "print(d1)\n"
   ]
  },
  {
   "cell_type": "code",
   "execution_count": 11,
   "metadata": {},
   "outputs": [
    {
     "data": {
      "text/plain": [
       "dict_keys(['a', 'b'])"
      ]
     },
     "execution_count": 11,
     "metadata": {},
     "output_type": "execute_result"
    }
   ],
   "source": [
    "d1.keys()"
   ]
  },
  {
   "cell_type": "code",
   "execution_count": 12,
   "metadata": {},
   "outputs": [
    {
     "data": {
      "text/plain": [
       "dict_values([23, 'hello'])"
      ]
     },
     "execution_count": 12,
     "metadata": {},
     "output_type": "execute_result"
    }
   ],
   "source": [
    "d1.values()"
   ]
  },
  {
   "cell_type": "code",
   "execution_count": null,
   "metadata": {},
   "outputs": [
    {
     "name": "stdout",
     "output_type": "stream",
     "text": [
      "poped =('b', 'hello')\n",
      "{'a': 23}\n"
     ]
    }
   ],
   "source": [
    "poped = d1.popitem()\n",
    "print(f\"{poped =}\")\n",
    "print(d1)"
   ]
  },
  {
   "cell_type": "code",
   "execution_count": 15,
   "metadata": {},
   "outputs": [
    {
     "name": "stdout",
     "output_type": "stream",
     "text": [
      "before {'a': 23}\n",
      "after {}\n"
     ]
    }
   ],
   "source": [
    "print(\"before\", d1)\n",
    "del d1['a']\n",
    "print(\"after\", d1)\n"
   ]
  },
  {
   "cell_type": "code",
   "execution_count": 16,
   "metadata": {},
   "outputs": [
    {
     "name": "stdout",
     "output_type": "stream",
     "text": [
      "before {'a': 1, 'b': 2, 'c': 3}\n",
      "k_y=dict_items([('a', 1), ('b', 2), ('c', 3)])\n",
      "after {'a': 1, 'b': 2, 'c': 3}\n"
     ]
    }
   ],
   "source": [
    "d1 = {\"a\":1, \"b\":2, \"c\":3}\n",
    "print(\"before\",d1)\n",
    "k_y = d1.items()\n",
    "print(f\"{k_y=}\")\n",
    "print(\"after\", d1)"
   ]
  }
 ],
 "metadata": {
  "kernelspec": {
   "display_name": "venv",
   "language": "python",
   "name": "python3"
  },
  "language_info": {
   "codemirror_mode": {
    "name": "ipython",
    "version": 3
   },
   "file_extension": ".py",
   "mimetype": "text/x-python",
   "name": "python",
   "nbconvert_exporter": "python",
   "pygments_lexer": "ipython3",
   "version": "3.13.0"
  }
 },
 "nbformat": 4,
 "nbformat_minor": 2
}
