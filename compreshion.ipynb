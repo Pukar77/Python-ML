{
 "cells": [
  {
   "cell_type": "code",
   "execution_count": null,
   "metadata": {},
   "outputs": [
    {
     "name": "stdout",
     "output_type": "stream",
     "text": [
      "[1, 4, 9, 16]\n"
     ]
    }
   ],
   "source": [
    "\"\"\"\n",
    "traditional method\n",
    "create a new list with each element squared of given list\n",
    "\"\"\"\n",
    "l=[1,2,3,4]\n",
    "\n",
    "squared=[]\n",
    "for ele in l:\n",
    "    squ_valued = ele **2\n",
    "    squared.append(squ_valued)\n",
    "print(f\"{squared}\")"
   ]
  },
  {
   "cell_type": "code",
   "execution_count": 3,
   "metadata": {},
   "outputs": [
    {
     "data": {
      "text/plain": [
       "[1, 4, 9, 16]"
      ]
     },
     "execution_count": 3,
     "metadata": {},
     "output_type": "execute_result"
    }
   ],
   "source": [
    "\"\"\"solving same problem usinf list comprehesion\"\"\"\n",
    "\n",
    "[ele**2 for ele in l]"
   ]
  },
  {
   "cell_type": "code",
   "execution_count": 6,
   "metadata": {},
   "outputs": [
    {
     "data": {
      "text/plain": [
       "True"
      ]
     },
     "execution_count": 6,
     "metadata": {},
     "output_type": "execute_result"
    }
   ],
   "source": [
    "isinstance(1,int)"
   ]
  },
  {
   "cell_type": "code",
   "execution_count": 10,
   "metadata": {},
   "outputs": [
    {
     "name": "stdout",
     "output_type": "stream",
     "text": [
      "squared=[1, 4, 9, 16, 'a']\n"
     ]
    }
   ],
   "source": [
    "l=[1,2,3,4,'a']\n",
    "squared=[]\n",
    "\n",
    "for ele in l:\n",
    "    if isinstance(ele, (int, float)):\n",
    "        squared.append(ele**2)\n",
    "    else:\n",
    "        squared.append(ele)\n",
    "\n",
    "print(f\"{squared=}\")"
   ]
  },
  {
   "cell_type": "code",
   "execution_count": 11,
   "metadata": {},
   "outputs": [
    {
     "data": {
      "text/plain": [
       "[1, 4, 9, 16, 'a']"
      ]
     },
     "execution_count": 11,
     "metadata": {},
     "output_type": "execute_result"
    }
   ],
   "source": [
    "[ele**2 if isinstance(ele, (int, float)) else ele for ele in l]"
   ]
  },
  {
   "cell_type": "code",
   "execution_count": 14,
   "metadata": {},
   "outputs": [
    {
     "name": "stdout",
     "output_type": "stream",
     "text": [
      "{'a': 102, 'b': 303, 'c': 104}\n"
     ]
    }
   ],
   "source": [
    "\"\"\"dictionary comprehension\"\"\"\n",
    "\n",
    "d={'a':2,'b':3,'c':4}\n",
    "output={}\n",
    "for k,v in d.items():\n",
    "    if v%2 == 0:\n",
    "     output[k] = v+100\n",
    "     \n",
    "\n",
    "    else:\n",
    "       output[k] = v+300\n",
    "        \n",
    "\n",
    "print(output)\n"
   ]
  },
  {
   "cell_type": "code",
   "execution_count": 13,
   "metadata": {},
   "outputs": [
    {
     "data": {
      "text/plain": [
       "{'a': 102, 'b': 103, 'c': 104}"
      ]
     },
     "execution_count": 13,
     "metadata": {},
     "output_type": "execute_result"
    }
   ],
   "source": [
    "{k:v+100 for k,v in d.items()}"
   ]
  },
  {
   "cell_type": "code",
   "execution_count": 15,
   "metadata": {},
   "outputs": [
    {
     "data": {
      "text/plain": [
       "{'a': 102, 'b': 5, 'c': 104}"
      ]
     },
     "execution_count": 15,
     "metadata": {},
     "output_type": "execute_result"
    }
   ],
   "source": [
    "{k:v+100 if v%2 == 0 else v+2 for k,v in d.items()}"
   ]
  },
  {
   "cell_type": "code",
   "execution_count": 21,
   "metadata": {},
   "outputs": [
    {
     "name": "stdout",
     "output_type": "stream",
     "text": [
      "[1001, 12, 1003, 14, 1005]\n"
     ]
    }
   ],
   "source": [
    "\"\"\"create a new list from the given list using following conditions \n",
    "1) if element is in odd index, add 10 \n",
    "2) if element is in even index, add 1000\n",
    "\"\"\"\n",
    "\n",
    "l1 = [1,2,3,4,5]\n",
    "new_list =[]\n",
    "\n",
    "for num in l1:\n",
    " if l1.index(num)%2==0:\n",
    "    new_list.append(num+1000)\n",
    " else:\n",
    "    new_list.append(num+10)\n",
    "\n",
    "print(f\"{new_list}\")\n"
   ]
  },
  {
   "cell_type": "code",
   "execution_count": 23,
   "metadata": {},
   "outputs": [
    {
     "data": {
      "text/plain": [
       "[1001, 12, 1003, 14, 1005]"
      ]
     },
     "execution_count": 23,
     "metadata": {},
     "output_type": "execute_result"
    }
   ],
   "source": [
    "\"\"\"using list compreshension method\"\"\"\n",
    "[num +1000  if l1.index(num)%2==0  else num+10 for num in l1 ]"
   ]
  }
 ],
 "metadata": {
  "kernelspec": {
   "display_name": "venv",
   "language": "python",
   "name": "python3"
  },
  "language_info": {
   "codemirror_mode": {
    "name": "ipython",
    "version": 3
   },
   "file_extension": ".py",
   "mimetype": "text/x-python",
   "name": "python",
   "nbconvert_exporter": "python",
   "pygments_lexer": "ipython3",
   "version": "3.13.0"
  }
 },
 "nbformat": 4,
 "nbformat_minor": 2
}
