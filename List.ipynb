{
 "cells": [
  {
   "cell_type": "code",
   "execution_count": 1,
   "metadata": {},
   "outputs": [],
   "source": [
    "l1 = []"
   ]
  },
  {
   "cell_type": "code",
   "execution_count": 2,
   "metadata": {},
   "outputs": [
    {
     "name": "stdout",
     "output_type": "stream",
     "text": [
      "[] <class 'list'>\n"
     ]
    }
   ],
   "source": [
    "print(l1, type(l1))"
   ]
  },
  {
   "cell_type": "code",
   "execution_count": 3,
   "metadata": {},
   "outputs": [
    {
     "name": "stdout",
     "output_type": "stream",
     "text": [
      "[] <class 'list'>\n"
     ]
    }
   ],
   "source": [
    "l2 = list()\n",
    "print(l2, type(l2))"
   ]
  },
  {
   "cell_type": "code",
   "execution_count": 4,
   "metadata": {},
   "outputs": [
    {
     "name": "stdout",
     "output_type": "stream",
     "text": [
      "list[1, 2, 3, 4, 5] <class 'types.GenericAlias'>\n"
     ]
    }
   ],
   "source": [
    "l3 = list[1,2,3,4,5]\n",
    "print(l3,type(l3))"
   ]
  },
  {
   "cell_type": "code",
   "execution_count": 6,
   "metadata": {},
   "outputs": [
    {
     "name": "stdout",
     "output_type": "stream",
     "text": [
      "Before appending the list [1, 2, 3, 4]\n",
      "after appending the list \n",
      "[1, 2, 3, 4, 5]\n"
     ]
    }
   ],
   "source": [
    "l1 = [1,2,3,4]\n",
    "print(\"Before appending the list\",l1)\n",
    "l1.append(5)\n",
    "print(\"after appending the list \")\n",
    "print(l1)"
   ]
  },
  {
   "cell_type": "code",
   "execution_count": 9,
   "metadata": {},
   "outputs": [
    {
     "name": "stdout",
     "output_type": "stream",
     "text": [
      "before [1, 2, 3, 4, 5, 'appended string', 'appended string']\n",
      "After [1, 2, 3, 4, 5, 'appended string', 'appended string', 'appended string']\n"
     ]
    }
   ],
   "source": [
    "print(\"before\", l1)\n",
    "l1.append(\"appended string\")\n",
    "print(\"After\", l1)"
   ]
  },
  {
   "cell_type": "code",
   "execution_count": 12,
   "metadata": {},
   "outputs": [
    {
     "name": "stdout",
     "output_type": "stream",
     "text": [
      "Before [1, 2, 3, 4, 5]\n",
      "[1, 2, 'inserted', 3, 4, 5]\n"
     ]
    }
   ],
   "source": [
    "l1 = [1,2,3,4,5]\n",
    "print(\"Before\", l1)\n",
    "l1.insert(2, \"inserted\")\n",
    "print(l1)\n"
   ]
  },
  {
   "cell_type": "code",
   "execution_count": 14,
   "metadata": {},
   "outputs": [
    {
     "name": "stdout",
     "output_type": "stream",
     "text": [
      "[1, 2, 'inserted', 3, 4, 5, 1, 2, 'inserted', 3, 4, 5, 1, 2, 'inserted', 3, 4, 5, 1, 2, 'inserted', 3, 4, 5]\n",
      "[2, 'inserted', 3, 4, 5, 1, 2, 'inserted', 3, 4, 5, 1, 2, 'inserted', 3, 4, 5, 1, 2, 'inserted', 3, 4, 5]\n"
     ]
    }
   ],
   "source": [
    "l1.extend(l1)\n",
    "print(l1)\n",
    "l1.remove(1)\n",
    "print(l1)"
   ]
  },
  {
   "cell_type": "code",
   "execution_count": 16,
   "metadata": {},
   "outputs": [
    {
     "name": "stdout",
     "output_type": "stream",
     "text": [
      "poped value 61\n",
      "after pooping [34, 45, 56]\n"
     ]
    }
   ],
   "source": [
    "l1= [34,45,56,61]\n",
    "popped_value = l1.pop()\n",
    "print(\"poped value\", popped_value)\n",
    "print(\"after pooping\",l1)"
   ]
  },
  {
   "cell_type": "code",
   "execution_count": 17,
   "metadata": {},
   "outputs": [
    {
     "name": "stdout",
     "output_type": "stream",
     "text": [
      "[56, 45, 34]\n"
     ]
    }
   ],
   "source": [
    "l1.reverse()\n",
    "print(l1)"
   ]
  },
  {
   "cell_type": "code",
   "execution_count": 18,
   "metadata": {},
   "outputs": [
    {
     "name": "stdout",
     "output_type": "stream",
     "text": [
      "[56, 45, 34]\n",
      "1\n"
     ]
    }
   ],
   "source": [
    "print(l1)\n",
    "idx = l1.index(45)\n",
    "print(idx)"
   ]
  },
  {
   "cell_type": "code",
   "execution_count": 20,
   "metadata": {},
   "outputs": [
    {
     "name": "stdout",
     "output_type": "stream",
     "text": [
      "[34, 45, 56]\n",
      "[34, 45, 56]\n",
      "[56, 45, 34]\n"
     ]
    }
   ],
   "source": [
    "print(l1)\n",
    "l1.sort()\n",
    "print(l1)\n",
    "l1.sort(reverse=True)\n",
    "print(l1)"
   ]
  },
  {
   "cell_type": "code",
   "execution_count": 21,
   "metadata": {},
   "outputs": [
    {
     "name": "stdout",
     "output_type": "stream",
     "text": [
      "[]\n"
     ]
    }
   ],
   "source": [
    "l1.clear()\n",
    "print(l1)"
   ]
  },
  {
   "cell_type": "code",
   "execution_count": 23,
   "metadata": {},
   "outputs": [],
   "source": [
    "l1 = [1,2,3,4,5,6,7,8,9]\n"
   ]
  },
  {
   "cell_type": "code",
   "execution_count": null,
   "metadata": {},
   "outputs": [
    {
     "data": {
      "text/plain": [
       "2"
      ]
     },
     "execution_count": 24,
     "metadata": {},
     "output_type": "execute_result"
    }
   ],
   "source": [
    "l1[1]"
   ]
  },
  {
   "cell_type": "code",
   "execution_count": 25,
   "metadata": {},
   "outputs": [
    {
     "data": {
      "text/plain": [
       "2"
      ]
     },
     "execution_count": 25,
     "metadata": {},
     "output_type": "execute_result"
    }
   ],
   "source": [
    "l1[-8]"
   ]
  },
  {
   "cell_type": "code",
   "execution_count": 26,
   "metadata": {},
   "outputs": [
    {
     "data": {
      "text/plain": [
       "[1, 2, 3, 4, 5, 6, 7, 8, 9]"
      ]
     },
     "execution_count": 26,
     "metadata": {},
     "output_type": "execute_result"
    }
   ],
   "source": [
    "l1[::]"
   ]
  },
  {
   "cell_type": "code",
   "execution_count": 27,
   "metadata": {},
   "outputs": [
    {
     "data": {
      "text/plain": [
       "[4, 5, 6, 7, 8, 9]"
      ]
     },
     "execution_count": 27,
     "metadata": {},
     "output_type": "execute_result"
    }
   ],
   "source": [
    "l1[3:9:1]"
   ]
  }
 ],
 "metadata": {
  "kernelspec": {
   "display_name": "venv",
   "language": "python",
   "name": "python3"
  },
  "language_info": {
   "codemirror_mode": {
    "name": "ipython",
    "version": 3
   },
   "file_extension": ".py",
   "mimetype": "text/x-python",
   "name": "python",
   "nbconvert_exporter": "python",
   "pygments_lexer": "ipython3",
   "version": "3.13.0"
  }
 },
 "nbformat": 4,
 "nbformat_minor": 2
}
