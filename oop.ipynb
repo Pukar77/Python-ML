{
 "cells": [
  {
   "cell_type": "code",
   "execution_count": 17,
   "metadata": {},
   "outputs": [],
   "source": [
    "class Human:\n",
    "    def __init__(self,age):\n",
    "       self.age = age\n",
    "\n",
    "    def __repr__(self)-> str:\n",
    "     return f\"human with age {self.age}\"\n",
    "    \n",
    "    def other_method(self):\n",
    "        print(f\"The value of age is {self.age}\")\n",
    "\n",
    "    def another_method(self):\n",
    "        print(\"Before calling other method\")\n",
    "        self.other_method()\n",
    "        print(\"After calling other method\")\n",
    "\n",
    "human = Human(10)\n",
    "human1 = Human(20)\n",
    "    \n",
    "\n",
    "\n",
    "\n",
    "\n"
   ]
  },
  {
   "cell_type": "code",
   "execution_count": 18,
   "metadata": {},
   "outputs": [
    {
     "name": "stdout",
     "output_type": "stream",
     "text": [
      "human with age 20\n"
     ]
    }
   ],
   "source": [
    "print(human1)"
   ]
  },
  {
   "cell_type": "code",
   "execution_count": 14,
   "metadata": {},
   "outputs": [
    {
     "name": "stdout",
     "output_type": "stream",
     "text": [
      "The value of age is 10\n"
     ]
    }
   ],
   "source": [
    "\n",
    "human.other_method()"
   ]
  },
  {
   "cell_type": "code",
   "execution_count": 15,
   "metadata": {},
   "outputs": [
    {
     "name": "stdout",
     "output_type": "stream",
     "text": [
      "The value of age is 20\n"
     ]
    }
   ],
   "source": [
    "human1.other_method()"
   ]
  },
  {
   "cell_type": "markdown",
   "metadata": {},
   "source": [
    "### `Inheritance`\n",
    "-single inhertance\n",
    "-multilevel inheritance\n",
    "-multiple inheritance\n",
    "-hirarchial inheritance"
   ]
  },
  {
   "cell_type": "code",
   "execution_count": 23,
   "metadata": {},
   "outputs": [
    {
     "name": "stdout",
     "output_type": "stream",
     "text": [
      "abc\n",
      "55\n"
     ]
    }
   ],
   "source": [
    "# single inheritance\n",
    "class Parent:\n",
    "    def __init__(self, age):\n",
    "        self.age = age\n",
    "\n",
    "class Child(Parent):\n",
    "    def __init__(self, name, age):\n",
    "        # super().__init__(age)\n",
    "        Parent.__init__(self, age)\n",
    "        self.name = name\n",
    "\n",
    "\n",
    "child = Child(\"abc\",55)\n",
    "print(child.name)\n",
    "print(child.age)"
   ]
  },
  {
   "cell_type": "code",
   "execution_count": 27,
   "metadata": {},
   "outputs": [
    {
     "data": {
      "text/plain": [
       "'abcd'"
      ]
     },
     "execution_count": 27,
     "metadata": {},
     "output_type": "execute_result"
    }
   ],
   "source": [
    "# multilevel inheritance\n",
    "class GrandFather:\n",
    "    def __init__(self, name):\n",
    "        self.name = name\n",
    "\n",
    "class Parent(GrandFather):\n",
    "    def __init__(self, name):\n",
    "        super().__init__(name)\n",
    "\n",
    "class Child(Parent):\n",
    "    def __init__(self,name):\n",
    "        super().__init__(name)\n",
    "\n",
    "child = Child(\"abcd\")\n",
    "child.name"
   ]
  },
  {
   "cell_type": "code",
   "execution_count": 30,
   "metadata": {},
   "outputs": [
    {
     "data": {
      "text/plain": [
       "'b'"
      ]
     },
     "execution_count": 30,
     "metadata": {},
     "output_type": "execute_result"
    }
   ],
   "source": [
    "#multiple inheritance\n",
    "\n",
    "class Father:\n",
    "    def __init__(self, fathername):\n",
    "        self.fathername = fathername\n",
    "\n",
    "class Mother:\n",
    "    def __init__(self, mothername):\n",
    "        self.mothername = mothername\n",
    "\n",
    "class Child(Father, Mother):\n",
    "    def __init__(self, childname, fathername, mothername):\n",
    "        Father.__init__(self, fathername)\n",
    "        Mother.__init__(self, mothername)\n",
    "        self.child_name = childname\n",
    "\n",
    "child = Child(\"a\",\"b\",\"c\")\n",
    "child.fathername\n",
    "    \n",
    "        \n"
   ]
  },
  {
   "cell_type": "code",
   "execution_count": null,
   "metadata": {},
   "outputs": [],
   "source": []
  }
 ],
 "metadata": {
  "kernelspec": {
   "display_name": "venv",
   "language": "python",
   "name": "python3"
  },
  "language_info": {
   "codemirror_mode": {
    "name": "ipython",
    "version": 3
   },
   "file_extension": ".py",
   "mimetype": "text/x-python",
   "name": "python",
   "nbconvert_exporter": "python",
   "pygments_lexer": "ipython3",
   "version": "3.13.0"
  }
 },
 "nbformat": 4,
 "nbformat_minor": 2
}
